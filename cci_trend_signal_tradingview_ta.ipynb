{
  "nbformat": 4,
  "nbformat_minor": 0,
  "metadata": {
    "colab": {
      "provenance": []
    },
    "kernelspec": {
      "name": "python3",
      "display_name": "Python 3"
    },
    "language_info": {
      "name": "python"
    }
  },
  "cells": [
    {
      "cell_type": "markdown",
      "source": [
        "# Import necessary packages"
      ],
      "metadata": {
        "id": "KjvWpGREXLwF"
      }
    },
    {
      "cell_type": "code",
      "execution_count": 9,
      "metadata": {
        "id": "AyAyJRtR4AON"
      },
      "outputs": [],
      "source": [
        "from tradingview_ta import TA_Handler, Interval, Exchange\n",
        "import numpy as np\n",
        "import schedule\n",
        "from schedule import run_pending\n",
        "import time\n",
        "import datetime\n",
        "import os\n",
        "import json\n",
        "import requests"
      ]
    },
    {
      "cell_type": "markdown",
      "source": [
        "# Time Zone Setup"
      ],
      "metadata": {
        "id": "sRM7QJ2A05lM"
      }
    },
    {
      "cell_type": "code",
      "source": [
        "#----------------------------Time Setup UTC--------------------------------#\n",
        "# os.environ[\"TZ\"] = \"UTC\"\n",
        "# time.tzset()"
      ],
      "metadata": {
        "id": "EqFCoTKe01KZ"
      },
      "execution_count": 8,
      "outputs": []
    },
    {
      "cell_type": "markdown",
      "source": [
        "# Telegram Bot and Channel Token and username"
      ],
      "metadata": {
        "id": "YSFklxQE4KcP"
      }
    },
    {
      "cell_type": "code",
      "source": [
        "#--------------------------Telegram Bot Setup------------------------------#\n",
        "from telegram import Bot\n",
        "bot = Bot('YOUR TELEGRAM BOT TOKEN ')\n",
        "channel_id_ForexCrypto=\"@TEKEGRAM CHANNEL USERNAME\""
      ],
      "metadata": {
        "id": "tSJCinQp4Hro"
      },
      "execution_count": 3,
      "outputs": []
    },
    {
      "cell_type": "markdown",
      "source": [
        "## Adding symbols"
      ],
      "metadata": {
        "id": "OrTPjsNMDkX1"
      }
    },
    {
      "cell_type": "code",
      "source": [
        "#----------------------------------------------------------------------#\n",
        "#     In this section all important symbols were added from\n",
        "#          Binance and FXCM which are two biggest\n",
        "#            brokers in crypto and forex market\n",
        "Binance_Symbols_List = ['BTCUSDT','ETHUSDT','MATICUSDT','SOLUSDT'\n",
        "                        ,'ADAUSDT','AVAXUSDT','XRPUSDT','BNBUSDT'\n",
        "                        ,'DOTUSDT','SHIBUSDT','AAVEUSDT','SANDUSDT'\n",
        "                        ,'GMTUSDT','ATOMUSDT','FTMUSDT','DOGEUSDT'\n",
        "                        ,'DYDXUSDT','NEARUSDT','ETHBTC','UNIUSDT'\n",
        "                        ,'GALAUSDT','RUNEUSDT','LINKUSDT','APEUSDT'\n",
        "                        ,'CRVUSDT','MANAUSDT','EGLDUSDT','TRXUSDT'\n",
        "                        ,'WAVESUSDT','NKNUSDT','FIROUSDT','UNFIUSDT'\n",
        "                        ,'ALGOUSDT','LTCUSDT','SRMUSDT','ICPUSDT'\n",
        "                        ,'BURGERUSDT','QNTUSDT','XLMUSDT','VGXUSDT'\n",
        "                        ,'JASMYUSDT','QUICKUSDT','GRTUSDT','XTZUSDT'\n",
        "                        ,'LRCUSDT','SNXUSDT','ETCUSDT','COMPUSDT'\n",
        "                        ,'AMPUSDT','KNCUSDT','ACHUSDT','FILUSDT'\n",
        "                        ,'ETHBTC','SOLBTC','LTCBTC','LTCETH'\n",
        "                        ,'SOLETH','DOGEBTC','ADABTC','XRPBTC'\n",
        "                        ,'EOSUSDT','FETUSDT','KSMUSDT','CELRUSDT'\n",
        "                        ,'ARUSDT','ALICEUSDT','IRISUSDT','ROSEUSDT'\n",
        "                        ,'ALPHAUSDT',]\n",
        "\n",
        "FXCM_Symbols_List    =  ['EURUSD','GBPUSD','AUDUSD','USDCAD'\n",
        "                        ,'USDCHF','USDJPY','NZDUSD','EURAUD'\n",
        "                        ,'EURJPY','GBPJPY','EURCHF']"
      ],
      "metadata": {
        "id": "J3VnfBbi91Hn"
      },
      "execution_count": 4,
      "outputs": []
    },
    {
      "cell_type": "code",
      "source": [
        "## Set variables for CCI indicators\n",
        "cci_status_previous_forex = np.zeros(len(FXCM_Symbols_List))\n",
        "cci_status_previous_forex = cci_status_previous_forex.astype(int)\n",
        "cci_status_previous_crypto = np.zeros(len(Binance_Symbols_List))\n",
        "cci_status_previous_crypto = cci_status_previous_crypto.astype(int)"
      ],
      "metadata": {
        "id": "Uo3t0Qjr3Ym1"
      },
      "execution_count": 17,
      "outputs": []
    },
    {
      "cell_type": "markdown",
      "source": [
        "## Detecting signals using CCI oscilators"
      ],
      "metadata": {
        "id": "U9d6pcDlD0WE"
      }
    },
    {
      "cell_type": "code",
      "source": [
        "#----------------------------------------------------------------------#\n",
        "#            This is a function that based on Oscillators\n",
        "#      which detect Long and Short signals using CCI with 20 Period\n",
        "#        returning -1 means Short Alert and returning +1 means Long\n",
        "def signal_check(trend_status: int, cci_signal_status: int):\n",
        "    '''\n",
        "    This function gets Trend and Oscilators  status and returns\n",
        "    Three different values:\n",
        "     1  : Long  Signal\n",
        "    -1  : Short Signal\n",
        "     0  : No    Signal\n",
        "    '''\n",
        "    signal_final = 0\n",
        "    if (trend_status == 1) and (cci_signal_status == 1):\n",
        "        signal_final = 1  # Long Position\n",
        "\n",
        "    elif (trend_status == -1) and (cci_signal_status == -1):\n",
        "        signal_final = -1  # Short Position\n",
        "    else:\n",
        "        signal_final = 0\n",
        "    # Reset indicators values\n",
        "    cci_signal_status = 0\n",
        "    trend_status = 0\n",
        "\n",
        "    return signal_final"
      ],
      "metadata": {
        "id": "o_rqM6Nu-eW1"
      },
      "execution_count": 6,
      "outputs": []
    },
    {
      "cell_type": "markdown",
      "source": [
        "## Detecting Trend using Slow and Fast EMA"
      ],
      "metadata": {
        "id": "qi8wCQK9XtcZ"
      }
    },
    {
      "cell_type": "code",
      "source": [
        "#----------------------------------------------------------------------#\n",
        "#            This is a function that based on Moving averages\n",
        "#             which detect Trend Using EMA(50) and EMA(20)\n",
        "#        returning -1 means Downtrend and returning 1 means Uptrend\n",
        "def trend_detecting(ema_200 : float, ema_50: float):\n",
        "    trend_flag = 0\n",
        "    if ema_200 > ema_50 :\n",
        "        trend_flag = -1  # DownTrend\n",
        "    elif ema_200 < ema_50:\n",
        "        trend_flag = 1   # UpTrend\n",
        "    else:\n",
        "        pass\n",
        "    # print('Trend Status : ',trend_flag)\n",
        "    return trend_flag"
      ],
      "metadata": {
        "id": "FqvjymSJXuhL"
      },
      "execution_count": 7,
      "outputs": []
    },
    {
      "cell_type": "markdown",
      "source": [
        "## Detecting signals based on CCI and Trend functions output"
      ],
      "metadata": {
        "id": "q91JkCfsEL0k"
      }
    },
    {
      "cell_type": "code",
      "source": [
        "#-----------------------------Trend and Oscillators signal check-------------------------------#\n",
        "#           we only detecting sell signals in cci when we have a downtrend and\n",
        "#                 detectign buy signals in cci when we have a uptrend\n",
        "import numpy as np\n",
        "def cci_signal_detecting(cci_value: float , iteration_step : int, cci_status_previous: np.ndarray):\n",
        "    '''\n",
        "    This function is based on Oscillators\n",
        "    which detect Long and Short signals using CCI with 20 Period\n",
        "    returning -1 means Short Alert and returning +1 means Long\n",
        "    '''\n",
        "    if   cci_value > 100 :\n",
        "        cci_status = 1\n",
        "    elif cci_value < -100:\n",
        "        cci_status = -1\n",
        "    else:\n",
        "        cci_status = 0\n",
        "\n",
        "    if (cci_status == 1 and (cci_status_previous[iteration_step] == -1 or cci_status_previous[iteration_step] == 0)):\n",
        "        signal_status = 1\n",
        "        cci_status_previous[iteration_step] = 1\n",
        "    elif (cci_status == -1 and (cci_status_previous[iteration_step] == 1 or cci_status_previous[iteration_step] == 0)):\n",
        "        signal_status = -1\n",
        "        cci_status_previous[iteration_step] = -1\n",
        "    else:\n",
        "        signal_status = 0\n",
        "    # print('cci_status:',cci_status,'cci_previous:',cci_status_previous,'signal cci :',signal_status)\n",
        "\n",
        "    return signal_status\n"
      ],
      "metadata": {
        "id": "kMDchHkADi3o"
      },
      "execution_count": 11,
      "outputs": []
    },
    {
      "cell_type": "markdown",
      "source": [
        "# Send to telegram channel"
      ],
      "metadata": {
        "id": "yvwb61aK6A0j"
      }
    },
    {
      "cell_type": "code",
      "source": [
        "def send_to_telegram(signal_final: int,\n",
        "                     symbol_name: str,\n",
        "                     screener_name: str,\n",
        "                     exchange_name: str,\n",
        "                     timeframe: str,\n",
        "                     open_price = None,\n",
        "                     close_price = None\n",
        "                     ):\n",
        "    '''\n",
        "    This function Sends the signal to Telegram Channel\n",
        "    '''\n",
        "    try:\n",
        "        if (screener_name == \"crypto\") or (screener_name == \"forex\"):\n",
        "            if signal_final == 1:\n",
        "                message = screener_name.capitalize() + \" \" + \"Signal\" + '\\U0000269C' + \"\\n\\n\" + \\\n",
        "                          symbol_name + \\\n",
        "                          \"\\n\" + \"Buy at \" + str(close_price)+ '\\U00002B06' + \\\n",
        "                          \"\\n\\n\" + \"@AbayFx_ForexCrypto\"\n",
        "                print(message)\n",
        "                telegram_out = bot.send_message(channel_id_ForexCrypto, message)\n",
        "                print(telegram_out)\n",
        "            elif signal_final == -1:\n",
        "                message = screener_name.capitalize() + \" \" + \"Signal\" + \"\\U0000269C\" + \"\\n\\n\" + \\\n",
        "                          symbol_name + \\\n",
        "                          \"\\n\" + \"Sell at \" + str(close_price)  + \"\\U00002B07\" + \\\n",
        "                          \"\\n\\n\" + \"@AbayFx_ForexCrypto\"\n",
        "                print(message)\n",
        "                telegram_out = bot.send_message(channel_id_ForexCrypto, message)\n",
        "                print(telegram_out)\n",
        "            else:\n",
        "                pass\n",
        "\n",
        "        else:\n",
        "            pass\n",
        "\n",
        "    except:\n",
        "        print('Error Happend!')\n"
      ],
      "metadata": {
        "id": "G9-Zdrjb6APt"
      },
      "execution_count": 12,
      "outputs": []
    },
    {
      "cell_type": "markdown",
      "source": [
        "## Market Scanner"
      ],
      "metadata": {
        "id": "1pE7AvvJFYeK"
      }
    },
    {
      "cell_type": "code",
      "source": [
        "#---------------------------Crypto Scanner Function--------------------------------#\n",
        "def market_scanner(symbols_list     : str,\n",
        "                   screen_name      : str,\n",
        "                   exchange_name    : str,\n",
        "                   timeframe        : str,\n",
        "                   cci_previous_status  :  np.ndarray,\n",
        "                   indicator_1      ='EMA200',\n",
        "                   indicator_2      ='EMA50',\n",
        "                   indicator_3      ='CCI20',\n",
        "                   indicator_4      ='close',\n",
        "                   indicator_5      ='open'):\n",
        "    '''\n",
        "    This function scan all symbols you gave and detect that whether it has a potential for signals or not\n",
        "    :param symbols_list: The all symbols this function scan and extract their indicators\n",
        "    :param screen_name: symbols have different kind of screen name like crypto and forex\n",
        "    :param exchange_name: specify which exchange symbols list work with\n",
        "    :param timeframe: set in which timeframe should receive indicators value\n",
        "    :param indicator_1:\n",
        "    :param indicator_2:\n",
        "    :param indicator_3:\n",
        "    :param indicator_4:\n",
        "    :param indicator_5:\n",
        "    :return:\n",
        "    '''\n",
        "    for iteration, symbol in enumerate(symbols_list):\n",
        "        try:\n",
        "            Outcome = TA_Handler(\n",
        "                symbol=symbol,\n",
        "                screener=screen_name,\n",
        "                exchange=exchange_name,\n",
        "                interval=timeframe\n",
        "            )\n",
        "\n",
        "            slow_ema = Outcome.get_analysis().indicators[indicator_1]\n",
        "            fast_ema = Outcome.get_analysis().indicators[indicator_2]\n",
        "            cci_output = Outcome.get_analysis().indicators[indicator_3]\n",
        "            Indicator_4_Value = Outcome.get_analysis().indicators[indicator_4]\n",
        "            Indicator_5_Value = Outcome.get_analysis().indicators[indicator_5]\n",
        "            trend_status = trend_detecting(slow_ema, fast_ema)\n",
        "            signal_cci = cci_signal_detecting(cci_output, iteration, cci_previous_status)\n",
        "            signal_final = signal_check(trend_status=trend_status, cci_signal_status=signal_cci)\n",
        "            send_to_telegram(signal_final, symbol_name= symbol, screener_name= screen_name, exchange_name= exchange_name\n",
        "                             , timeframe= timeframe,close_price=Indicator_4_Value)\n",
        "\n",
        "            print('SYMBOL:',symbol)\n",
        "            print('Buy signal ,' if signal_final == 1 else (\"Sell signal ,\" if signal_final == -1 else \"No signal ,\"),\n",
        "                  'Uptrend ,' if trend_status == 1 else 'Downtrend ,',\n",
        "                  ' signal CCI long ' if signal_cci == 1 else ' signal CCI short')\n",
        "\n",
        "            # print(Outcome.get_analysis().indicators)\n",
        "\n",
        "\n",
        "        except:\n",
        "            print(\"Error happend in market scanner!\", symbol)\n"
      ],
      "metadata": {
        "id": "E3-RuEJPFV6O"
      },
      "execution_count": 13,
      "outputs": []
    },
    {
      "cell_type": "markdown",
      "source": [
        "# Schedule Running"
      ],
      "metadata": {
        "id": "fQlYiTWeg8nd"
      }
    },
    {
      "cell_type": "code",
      "source": [
        "#--------------- Run job every minute/hour at the 2rd second ---------------#\n",
        "# schedule.every().minute.at(\":59\").do(crypto_scanner)\n",
        "# schedule.every().hour.at(\"59:55\").do(market_scanner, symbols_list = FXCM_Symbols_List,\n",
        "#                                      screen_name=\"forex\" , exchange_name=\"FX_IDC\",\n",
        "#                                      timeframe= Interval.INTERVAL_1_HOUR, cci_previous_status = cci_status_previous_forex )"
      ],
      "metadata": {
        "id": "kq_4f9gCFiKw"
      },
      "execution_count": 14,
      "outputs": []
    },
    {
      "cell_type": "markdown",
      "source": [
        "# Main Function"
      ],
      "metadata": {
        "id": "6jPDFZRAg5Xg"
      }
    },
    {
      "cell_type": "code",
      "source": [
        "#------------------If you want to run the code on server uncomment this section-----------------------#\n",
        "# if __name__ == '__main__':\n",
        "#     # main()\n",
        "#     while True:\n",
        "#         schedule.run_pending()\n",
        "#         time.sleep(0.01)"
      ],
      "metadata": {
        "id": "2Bjb1f-jFqYc"
      },
      "execution_count": 15,
      "outputs": []
    },
    {
      "cell_type": "code",
      "source": [
        "# Test\n",
        "\n",
        "market_scanner(symbols_list = FXCM_Symbols_List,\n",
        "                                     screen_name=\"forex\" , exchange_name=\"FX_IDC\",\n",
        "                                     timeframe= Interval.INTERVAL_1_HOUR, cci_previous_status = cci_status_previous_forex)"
      ],
      "metadata": {
        "colab": {
          "base_uri": "https://localhost:8080/"
        },
        "id": "tXw07ZwlzVgn",
        "outputId": "357110db-dbdc-4ea3-f59e-319032775bcc"
      },
      "execution_count": 18,
      "outputs": [
        {
          "output_type": "stream",
          "name": "stdout",
          "text": [
            "Forex Signal⚜\n",
            "\n",
            "EURUSD\n",
            "Sell at 1.07415⬇\n",
            "\n",
            "@AbayFx_ForexCrypto\n",
            "<coroutine object Bot.send_message at 0x7f10fefc1bd0>\n",
            "SYMBOL: EURUSD\n",
            "Sell signal , Downtrend ,  signal CCI short\n"
          ]
        },
        {
          "output_type": "stream",
          "name": "stderr",
          "text": [
            "<ipython-input-13-b8ad58c9533b>:42: RuntimeWarning: coroutine 'Bot.send_message' was never awaited\n",
            "  send_to_telegram(signal_final, symbol_name= symbol, screener_name= screen_name, exchange_name= exchange_name\n",
            "RuntimeWarning: Enable tracemalloc to get the object allocation traceback\n"
          ]
        },
        {
          "output_type": "stream",
          "name": "stdout",
          "text": [
            "SYMBOL: GBPUSD\n",
            "No signal , Downtrend ,  signal CCI short\n",
            "SYMBOL: AUDUSD\n",
            "No signal , Downtrend ,  signal CCI short\n",
            "SYMBOL: USDCAD\n",
            "No signal , Uptrend ,  signal CCI short\n",
            "Forex Signal⚜\n",
            "\n",
            "USDCHF\n",
            "Buy at 0.88831⬆\n",
            "\n",
            "@AbayFx_ForexCrypto\n",
            "<coroutine object Bot.send_message at 0x7f10fefc2570>\n",
            "SYMBOL: USDCHF\n",
            "Buy signal , Uptrend ,  signal CCI long \n",
            "Forex Signal⚜\n",
            "\n",
            "USDJPY\n",
            "Buy at 147.23⬆\n",
            "\n",
            "@AbayFx_ForexCrypto\n",
            "<coroutine object Bot.send_message at 0x7f10fefc25e0>\n",
            "SYMBOL: USDJPY\n",
            "Buy signal , Uptrend ,  signal CCI long \n",
            "Forex Signal⚜\n",
            "\n",
            "NZDUSD\n",
            "Sell at 0.58775⬇\n",
            "\n",
            "@AbayFx_ForexCrypto\n",
            "<coroutine object Bot.send_message at 0x7f10fefc2420>\n",
            "SYMBOL: NZDUSD\n",
            "Sell signal , Downtrend ,  signal CCI short\n",
            "SYMBOL: EURAUD\n",
            "No signal , Downtrend ,  signal CCI short\n",
            "SYMBOL: EURJPY\n",
            "No signal , Downtrend ,  signal CCI short\n",
            "SYMBOL: GBPJPY\n",
            "No signal , Uptrend ,  signal CCI short\n",
            "Forex Signal⚜\n",
            "\n",
            "EURCHF\n",
            "Sell at 0.95415⬇\n",
            "\n",
            "@AbayFx_ForexCrypto\n",
            "<coroutine object Bot.send_message at 0x7f10fefc25e0>\n",
            "SYMBOL: EURCHF\n",
            "Sell signal , Downtrend ,  signal CCI short\n"
          ]
        }
      ]
    },
    {
      "cell_type": "code",
      "source": [],
      "metadata": {
        "id": "Hr8MOTo8ZfK9"
      },
      "execution_count": null,
      "outputs": []
    }
  ]
}